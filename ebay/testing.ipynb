{
 "cells": [
  {
   "cell_type": "code",
   "execution_count": 3,
   "metadata": {},
   "outputs": [],
   "source": [
    "import spacy\n",
    "import pandas as pd"
   ]
  },
  {
   "cell_type": "code",
   "execution_count": 2,
   "metadata": {},
   "outputs": [
    {
     "ename": "TypeError",
     "evalue": "Language.__call__() takes 2 positional arguments but 3 were given",
     "output_type": "error",
     "traceback": [
      "\u001b[1;31m---------------------------------------------------------------------------\u001b[0m",
      "\u001b[1;31mTypeError\u001b[0m                                 Traceback (most recent call last)",
      "Cell \u001b[1;32mIn [2], line 2\u001b[0m\n\u001b[0;32m      1\u001b[0m trained_nlp \u001b[38;5;241m=\u001b[39m spacy\u001b[38;5;241m.\u001b[39mload(\u001b[38;5;124mr\u001b[39m\u001b[38;5;124m\"\u001b[39m\u001b[38;5;124mC:\u001b[39m\u001b[38;5;124m\\\u001b[39m\u001b[38;5;124mUsers\u001b[39m\u001b[38;5;124m\\\u001b[39m\u001b[38;5;124mmiremezo\u001b[39m\u001b[38;5;124m\\\u001b[39m\u001b[38;5;124mSite\u001b[39m\u001b[38;5;124m\\\u001b[39m\u001b[38;5;124mCSC381\u001b[39m\u001b[38;5;124m\\\u001b[39m\u001b[38;5;124mEbay-ML-challenge\u001b[39m\u001b[38;5;124m\\\u001b[39m\u001b[38;5;124mebay\u001b[39m\u001b[38;5;124m\\\u001b[39m\u001b[38;5;124mmodels\u001b[39m\u001b[38;5;124m\\\u001b[39m\u001b[38;5;124mouput\u001b[39m\u001b[38;5;124m\\\u001b[39m\u001b[38;5;124mmodel-best\u001b[39m\u001b[38;5;124m\"\u001b[39m)\n\u001b[1;32m----> 2\u001b[0m doc \u001b[38;5;241m=\u001b[39m trained_nlp(\u001b[38;5;124m\"\u001b[39m\u001b[38;5;124mLouis Vuitton\u001b[39m\u001b[38;5;124m\"\u001b[39m, \u001b[38;5;124m\"\u001b[39m\u001b[38;5;124mAdidas\u001b[39m\u001b[38;5;124m\"\u001b[39m)\n\u001b[0;32m      4\u001b[0m \u001b[38;5;28;01mfor\u001b[39;00m ent \u001b[38;5;129;01min\u001b[39;00m doc\u001b[38;5;241m.\u001b[39ments:\n\u001b[0;32m      5\u001b[0m     \u001b[38;5;28mprint\u001b[39m (ent\u001b[38;5;241m.\u001b[39mtext, ent\u001b[38;5;241m.\u001b[39mlabel_)\n",
      "\u001b[1;31mTypeError\u001b[0m: Language.__call__() takes 2 positional arguments but 3 were given"
     ]
    }
   ],
   "source": [
    "trained_nlp = spacy.load(r\"C:\\Users\\miremezo\\Site\\CSC381\\Ebay-ML-challenge\\ebay\\models\\ouput\\model-best\")\n",
    "doc = trained_nlp(\"Louis Vuitton\")\n",
    "\n",
    "print()\n",
    "for ent in doc.ents:\n",
    "    print (ent.text, ent.label_)"
   ]
  },
  {
   "cell_type": "code",
   "execution_count": 4,
   "metadata": {},
   "outputs": [
    {
     "name": "stdout",
     "output_type": "stream",
     "text": [
      "<class 'pandas.core.frame.DataFrame'>\n",
      "RangeIndex: 19971958 entries, 0 to 19971957\n",
      "Data columns (total 2 columns):\n",
      " #   Column         Dtype \n",
      "---  ------         ----- \n",
      " 0   Record Number  int64 \n",
      " 1   Title          object\n",
      "dtypes: int64(1), object(1)\n",
      "memory usage: 304.7+ MB\n"
     ]
    }
   ],
   "source": [
    "Quiz=pd.read_csv(\"Listing_titles.tsv.gz\", sep=\"\\t\", on_bad_lines='skip')\n",
    "Quiz.info()"
   ]
  },
  {
   "cell_type": "code",
   "execution_count": 10,
   "metadata": {},
   "outputs": [
    {
     "data": {
      "text/html": [
       "<div>\n",
       "<style scoped>\n",
       "    .dataframe tbody tr th:only-of-type {\n",
       "        vertical-align: middle;\n",
       "    }\n",
       "\n",
       "    .dataframe tbody tr th {\n",
       "        vertical-align: top;\n",
       "    }\n",
       "\n",
       "    .dataframe thead th {\n",
       "        text-align: right;\n",
       "    }\n",
       "</style>\n",
       "<table border=\"1\" class=\"dataframe\">\n",
       "  <thead>\n",
       "    <tr style=\"text-align: right;\">\n",
       "      <th></th>\n",
       "      <th>Record Number</th>\n",
       "      <th>Title</th>\n",
       "    </tr>\n",
       "  </thead>\n",
       "  <tbody>\n",
       "    <tr>\n",
       "      <th>29991</th>\n",
       "      <td>30102</td>\n",
       "      <td>NEW-PAUL &amp; JOE SISTER PERFORE CHAT Leather Cat...</td>\n",
       "    </tr>\n",
       "    <tr>\n",
       "      <th>29992</th>\n",
       "      <td>30103</td>\n",
       "      <td>Violet Ray tan tote bag for women ( used - $ 4...</td>\n",
       "    </tr>\n",
       "    <tr>\n",
       "      <th>29993</th>\n",
       "      <td>30104</td>\n",
       "      <td>CN _ Solid Color Faux Leather Deer Pendant Wom...</td>\n",
       "    </tr>\n",
       "    <tr>\n",
       "      <th>29994</th>\n",
       "      <td>30105</td>\n",
       "      <td>michael kors Bag Mk Logo Authentic . Beautiful...</td>\n",
       "    </tr>\n",
       "    <tr>\n",
       "      <th>29995</th>\n",
       "      <td>30106</td>\n",
       "      <td>Sling Handbag Bags Women 's Ladies Cross body ...</td>\n",
       "    </tr>\n",
       "    <tr>\n",
       "      <th>29996</th>\n",
       "      <td>30107</td>\n",
       "      <td>Coach Tote Purse Handbag Brown Monogram Canvas...</td>\n",
       "    </tr>\n",
       "    <tr>\n",
       "      <th>29997</th>\n",
       "      <td>30108</td>\n",
       "      <td>RADLEY BEIGE BLACK LEATHER TRIM HANDBAG TOTE S...</td>\n",
       "    </tr>\n",
       "    <tr>\n",
       "      <th>29998</th>\n",
       "      <td>30109</td>\n",
       "      <td>COACH f29282 - PEYTON OMBRE CORA DOMED</td>\n",
       "    </tr>\n",
       "    <tr>\n",
       "      <th>29999</th>\n",
       "      <td>30110</td>\n",
       "      <td>Coach Poppy Signature Pastel Plaid Crossbody B...</td>\n",
       "    </tr>\n",
       "    <tr>\n",
       "      <th>30000</th>\n",
       "      <td>30111</td>\n",
       "      <td>Red Valentino Embroidered Birds Denim Bag New</td>\n",
       "    </tr>\n",
       "  </tbody>\n",
       "</table>\n",
       "</div>"
      ],
      "text/plain": [
       "       Record Number                                              Title\n",
       "29991          30102  NEW-PAUL & JOE SISTER PERFORE CHAT Leather Cat...\n",
       "29992          30103  Violet Ray tan tote bag for women ( used - $ 4...\n",
       "29993          30104  CN _ Solid Color Faux Leather Deer Pendant Wom...\n",
       "29994          30105  michael kors Bag Mk Logo Authentic . Beautiful...\n",
       "29995          30106  Sling Handbag Bags Women 's Ladies Cross body ...\n",
       "29996          30107  Coach Tote Purse Handbag Brown Monogram Canvas...\n",
       "29997          30108  RADLEY BEIGE BLACK LEATHER TRIM HANDBAG TOTE S...\n",
       "29998          30109             COACH f29282 - PEYTON OMBRE CORA DOMED\n",
       "29999          30110  Coach Poppy Signature Pastel Plaid Crossbody B...\n",
       "30000          30111      Red Valentino Embroidered Birds Denim Bag New"
      ]
     },
     "execution_count": 10,
     "metadata": {},
     "output_type": "execute_result"
    }
   ],
   "source": [
    "test=Quiz.iloc[5001:30001]\n",
    "test.tail(10)"
   ]
  },
  {
   "cell_type": "code",
   "execution_count": 37,
   "metadata": {},
   "outputs": [
    {
     "name": "stdout",
     "output_type": "stream",
     "text": [
      "<class 'pandas.core.frame.DataFrame'>\n",
      "RangeIndex: 25000 entries, 5001 to 30000\n",
      "Data columns (total 3 columns):\n",
      " #   Column         Non-Null Count  Dtype \n",
      "---  ------         --------------  ----- \n",
      " 0   Record Number  25000 non-null  int64 \n",
      " 1   Title          25000 non-null  object\n",
      " 2   Trained        25000 non-null  object\n",
      "dtypes: int64(1), object(2)\n",
      "memory usage: 586.1+ KB\n"
     ]
    },
    {
     "name": "stderr",
     "output_type": "stream",
     "text": [
      "C:\\Users\\miremezo\\AppData\\Local\\Temp\\ipykernel_8660\\2217825791.py:1: SettingWithCopyWarning: \n",
      "A value is trying to be set on a copy of a slice from a DataFrame.\n",
      "Try using .loc[row_indexer,col_indexer] = value instead\n",
      "\n",
      "See the caveats in the documentation: https://pandas.pydata.org/pandas-docs/stable/user_guide/indexing.html#returning-a-view-versus-a-copy\n",
      "  test[\"Trained\"]=test[\"Title\"].apply(trained_nlp)\n"
     ]
    }
   ],
   "source": [
    "test[\"Trained\"]=test[\"Title\"].apply(trained_nlp)\n",
    "test.info()\n",
    "\n",
    "# for ent in docents:\n",
    "#     print (ent.text, ent.label_)"
   ]
  },
  {
   "cell_type": "code",
   "execution_count": 48,
   "metadata": {},
   "outputs": [
    {
     "data": {
      "text/html": [
       "<div>\n",
       "<style scoped>\n",
       "    .dataframe tbody tr th:only-of-type {\n",
       "        vertical-align: middle;\n",
       "    }\n",
       "\n",
       "    .dataframe tbody tr th {\n",
       "        vertical-align: top;\n",
       "    }\n",
       "\n",
       "    .dataframe thead th {\n",
       "        text-align: right;\n",
       "    }\n",
       "</style>\n",
       "<table border=\"1\" class=\"dataframe\">\n",
       "  <thead>\n",
       "    <tr style=\"text-align: right;\">\n",
       "      <th></th>\n",
       "      <th>record_number</th>\n",
       "      <th>Aspect_name</th>\n",
       "      <th>Aspect_value</th>\n",
       "    </tr>\n",
       "  </thead>\n",
       "  <tbody>\n",
       "    <tr>\n",
       "      <th>36211</th>\n",
       "      <td>9200</td>\n",
       "      <td>Memoir</td>\n",
       "      <td>No Tag</td>\n",
       "    </tr>\n",
       "    <tr>\n",
       "      <th>94279</th>\n",
       "      <td>15925</td>\n",
       "      <td>new</td>\n",
       "      <td>No Tag</td>\n",
       "    </tr>\n",
       "    <tr>\n",
       "      <th>159715</th>\n",
       "      <td>23516</td>\n",
       "      <td>Bag</td>\n",
       "      <td>Type</td>\n",
       "    </tr>\n",
       "    <tr>\n",
       "      <th>122534</th>\n",
       "      <td>19208</td>\n",
       "      <td>Sling</td>\n",
       "      <td>Handle Style</td>\n",
       "    </tr>\n",
       "    <tr>\n",
       "      <th>134048</th>\n",
       "      <td>20519</td>\n",
       "      <td>with</td>\n",
       "      <td>No Tag</td>\n",
       "    </tr>\n",
       "    <tr>\n",
       "      <th>179242</th>\n",
       "      <td>25780</td>\n",
       "      <td>Front Pocket</td>\n",
       "      <td>Pocket Type</td>\n",
       "    </tr>\n",
       "    <tr>\n",
       "      <th>160517</th>\n",
       "      <td>23607</td>\n",
       "      <td>Pink</td>\n",
       "      <td>Color</td>\n",
       "    </tr>\n",
       "    <tr>\n",
       "      <th>190588</th>\n",
       "      <td>27100</td>\n",
       "      <td>Shoulder</td>\n",
       "      <td>Type</td>\n",
       "    </tr>\n",
       "    <tr>\n",
       "      <th>209460</th>\n",
       "      <td>29259</td>\n",
       "      <td>M56382</td>\n",
       "      <td>MPN</td>\n",
       "    </tr>\n",
       "    <tr>\n",
       "      <th>99297</th>\n",
       "      <td>16507</td>\n",
       "      <td>Sequinned</td>\n",
       "      <td>Type</td>\n",
       "    </tr>\n",
       "  </tbody>\n",
       "</table>\n",
       "</div>"
      ],
      "text/plain": [
       "        record_number   Aspect_name  Aspect_value\n",
       "36211            9200        Memoir        No Tag\n",
       "94279           15925           new        No Tag\n",
       "159715          23516           Bag          Type\n",
       "122534          19208         Sling  Handle Style\n",
       "134048          20519          with        No Tag\n",
       "179242          25780  Front Pocket   Pocket Type\n",
       "160517          23607          Pink         Color\n",
       "190588          27100      Shoulder          Type\n",
       "209460          29259        M56382           MPN\n",
       "99297           16507     Sequinned          Type"
      ]
     },
     "execution_count": 48,
     "metadata": {},
     "output_type": "execute_result"
    }
   ],
   "source": [
    "record_number=[]\n",
    "Aspect_value=[]\n",
    "Aspect_name=[]\n",
    "\n",
    "for index, row in test.iterrows():\n",
    "    for ent in row[\"Trained\"].ents:\n",
    "        record_number.append(row['Record Number'])\n",
    "        Aspect_value.append(ent.text)\n",
    "        Aspect_name.append(ent.label_)\n",
    "\n",
    "\n",
    "submission=pd.DataFrame(\n",
    "    {'record_number':record_number ,\n",
    "     'Aspect_name': Aspect_name,\n",
    "     'Aspect_value': Aspect_value\n",
    "    })\n",
    "  \n",
    "# print(doc.iloc[5001].ents[13].text, doc.iloc[5001].ents[13].label_)\n",
    "# doc.iloc[5001]\n"
   ]
  },
  {
   "cell_type": "code",
   "execution_count": 62,
   "metadata": {},
   "outputs": [],
   "source": [
    "submission['Aspect_name']=submission['Aspect_name'].astype('str')\n",
    "submission['Aspect_name']=submission['Aspect_name'].astype('str')\n",
    "submission.to_csv(r\"C:\\Users\\miremezo\\Site\\CSC381\\Ebay-ML-challenge\\ebay\\Submissions\\quiz.tsv\",index=False, header=False, encoding='utf-8')"
   ]
  },
  {
   "cell_type": "code",
   "execution_count": 59,
   "metadata": {},
   "outputs": [
    {
     "name": "stdout",
     "output_type": "stream",
     "text": [
      "<class 'pandas.core.frame.DataFrame'>\n",
      "RangeIndex: 216841 entries, 0 to 216840\n",
      "Data columns (total 3 columns):\n",
      " #   Column         Non-Null Count   Dtype \n",
      "---  ------         --------------   ----- \n",
      " 0   record_number  216841 non-null  int64 \n",
      " 1   Aspect_name    216841 non-null  object\n",
      " 2   Aspect_value   216841 non-null  object\n",
      "dtypes: int64(1), object(2)\n",
      "memory usage: 5.0+ MB\n"
     ]
    }
   ],
   "source": [
    "\n",
    "submission.sample(10)"
   ]
  },
  {
   "cell_type": "code",
   "execution_count": null,
   "metadata": {},
   "outputs": [],
   "source": []
  }
 ],
 "metadata": {
  "kernelspec": {
   "display_name": "Python 3.10.2 64-bit",
   "language": "python",
   "name": "python3"
  },
  "language_info": {
   "codemirror_mode": {
    "name": "ipython",
    "version": 3
   },
   "file_extension": ".py",
   "mimetype": "text/x-python",
   "name": "python",
   "nbconvert_exporter": "python",
   "pygments_lexer": "ipython3",
   "version": "3.10.2"
  },
  "orig_nbformat": 4,
  "vscode": {
   "interpreter": {
    "hash": "b0979e3c43956d6fb95daed5d7ffc50feefc01f6a95b49f5f40568a44c1eefd2"
   }
  }
 },
 "nbformat": 4,
 "nbformat_minor": 2
}
