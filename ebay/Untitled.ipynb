{
 "cells": [
  {
   "cell_type": "code",
   "execution_count": null,
   "id": "97eabd26",
   "metadata": {},
   "outputs": [],
   "source": [
    "import pandas as pd\n",
    "import numpy as np"
   ]
  },
  {
   "cell_type": "code",
   "execution_count": 6,
   "id": "ab14e6e4",
   "metadata": {},
   "outputs": [
    {
     "data": {
      "text/plain": [
       "Index(['Record Number', 'Title', 'Token', 'Tag'], dtype='object')"
      ]
     },
     "execution_count": 6,
     "metadata": {},
     "output_type": "execute_result"
    }
   ],
   "source": [
    "df=pd.read_csv(\"Train_Tagged_titles.tsv.gz\", sep=\"\\t\", on_bad_lines='skip')\n",
    "df.columns"
   ]
  },
  {
   "cell_type": "code",
   "execution_count": 4,
   "id": "f94e5641",
   "metadata": {},
   "outputs": [],
   "source": [
    "df1=df[\"Tag\"]==\"NaN\""
   ]
  },
  {
   "cell_type": "code",
   "execution_count": 5,
   "id": "e4f26d52",
   "metadata": {},
   "outputs": [
    {
     "data": {
      "text/plain": [
       "[0        False\n",
       " 1        False\n",
       " 2        False\n",
       " 3        False\n",
       " 4        False\n",
       "          ...  \n",
       " 38204    False\n",
       " 38205    False\n",
       " 38206    False\n",
       " 38207    False\n",
       " 38208    False\n",
       " Name: Tag, Length: 38209, dtype: bool]"
      ]
     },
     "execution_count": 5,
     "metadata": {},
     "output_type": "execute_result"
    }
   ],
   "source": []
  },
  {
   "cell_type": "code",
   "execution_count": 12,
   "id": "b23d2d56",
   "metadata": {},
   "outputs": [],
   "source": [
    "agg_d = {'Record Number': 'first', 'Title': 'first',\n",
    "         'Token': lambda x: ' '.join(x.dropna()),\n",
    "          'Tag': 'first'}\n",
    "\n",
    "df1=df.groupby(df.Tag.notnull().cumsum().rename(None)).agg(agg_d)"
   ]
  },
  {
   "cell_type": "code",
   "execution_count": 13,
   "id": "1d58c03e",
   "metadata": {},
   "outputs": [
    {
     "data": {
      "text/html": [
       "<div>\n",
       "<style scoped>\n",
       "    .dataframe tbody tr th:only-of-type {\n",
       "        vertical-align: middle;\n",
       "    }\n",
       "\n",
       "    .dataframe tbody tr th {\n",
       "        vertical-align: top;\n",
       "    }\n",
       "\n",
       "    .dataframe thead th {\n",
       "        text-align: right;\n",
       "    }\n",
       "</style>\n",
       "<table border=\"1\" class=\"dataframe\">\n",
       "  <thead>\n",
       "    <tr style=\"text-align: right;\">\n",
       "      <th></th>\n",
       "      <th>Record Number</th>\n",
       "      <th>Title</th>\n",
       "      <th>Token</th>\n",
       "      <th>Tag</th>\n",
       "    </tr>\n",
       "  </thead>\n",
       "  <tbody>\n",
       "    <tr>\n",
       "      <th>1</th>\n",
       "      <td>1</td>\n",
       "      <td>LOUIS VUITTON M40096 Handbag Priscilla Multi-c...</td>\n",
       "      <td>LOUIS VUITTON</td>\n",
       "      <td>Brand</td>\n",
       "    </tr>\n",
       "    <tr>\n",
       "      <th>2</th>\n",
       "      <td>1</td>\n",
       "      <td>LOUIS VUITTON M40096 Handbag Priscilla Multi-c...</td>\n",
       "      <td>M40096</td>\n",
       "      <td>MPN</td>\n",
       "    </tr>\n",
       "    <tr>\n",
       "      <th>3</th>\n",
       "      <td>1</td>\n",
       "      <td>LOUIS VUITTON M40096 Handbag Priscilla Multi-c...</td>\n",
       "      <td>Handbag</td>\n",
       "      <td>Type</td>\n",
       "    </tr>\n",
       "    <tr>\n",
       "      <th>4</th>\n",
       "      <td>1</td>\n",
       "      <td>LOUIS VUITTON M40096 Handbag Priscilla Multi-c...</td>\n",
       "      <td>Priscilla</td>\n",
       "      <td>Model</td>\n",
       "    </tr>\n",
       "    <tr>\n",
       "      <th>5</th>\n",
       "      <td>1</td>\n",
       "      <td>LOUIS VUITTON M40096 Handbag Priscilla Multi-c...</td>\n",
       "      <td>Multi-color</td>\n",
       "      <td>Color</td>\n",
       "    </tr>\n",
       "    <tr>\n",
       "      <th>...</th>\n",
       "      <td>...</td>\n",
       "      <td>...</td>\n",
       "      <td>...</td>\n",
       "      <td>...</td>\n",
       "    </tr>\n",
       "    <tr>\n",
       "      <th>33412</th>\n",
       "      <td>5000</td>\n",
       "      <td>Botkier Sasha Medium Duffel Bag Coral Leather ...</td>\n",
       "      <td>Top</td>\n",
       "      <td>No Tag</td>\n",
       "    </tr>\n",
       "    <tr>\n",
       "      <th>33413</th>\n",
       "      <td>5000</td>\n",
       "      <td>Botkier Sasha Medium Duffel Bag Coral Leather ...</td>\n",
       "      <td>Closure</td>\n",
       "      <td>No Tag</td>\n",
       "    </tr>\n",
       "    <tr>\n",
       "      <th>33414</th>\n",
       "      <td>5000</td>\n",
       "      <td>Botkier Sasha Medium Duffel Bag Coral Leather ...</td>\n",
       "      <td>Retail</td>\n",
       "      <td>No Tag</td>\n",
       "    </tr>\n",
       "    <tr>\n",
       "      <th>33415</th>\n",
       "      <td>5000</td>\n",
       "      <td>Botkier Sasha Medium Duffel Bag Coral Leather ...</td>\n",
       "      <td>$</td>\n",
       "      <td>No Tag</td>\n",
       "    </tr>\n",
       "    <tr>\n",
       "      <th>33416</th>\n",
       "      <td>5000</td>\n",
       "      <td>Botkier Sasha Medium Duffel Bag Coral Leather ...</td>\n",
       "      <td>595</td>\n",
       "      <td>No Tag</td>\n",
       "    </tr>\n",
       "  </tbody>\n",
       "</table>\n",
       "<p>33416 rows × 4 columns</p>\n",
       "</div>"
      ],
      "text/plain": [
       "       Record Number                                              Title  \\\n",
       "1                  1  LOUIS VUITTON M40096 Handbag Priscilla Multi-c...   \n",
       "2                  1  LOUIS VUITTON M40096 Handbag Priscilla Multi-c...   \n",
       "3                  1  LOUIS VUITTON M40096 Handbag Priscilla Multi-c...   \n",
       "4                  1  LOUIS VUITTON M40096 Handbag Priscilla Multi-c...   \n",
       "5                  1  LOUIS VUITTON M40096 Handbag Priscilla Multi-c...   \n",
       "...              ...                                                ...   \n",
       "33412           5000  Botkier Sasha Medium Duffel Bag Coral Leather ...   \n",
       "33413           5000  Botkier Sasha Medium Duffel Bag Coral Leather ...   \n",
       "33414           5000  Botkier Sasha Medium Duffel Bag Coral Leather ...   \n",
       "33415           5000  Botkier Sasha Medium Duffel Bag Coral Leather ...   \n",
       "33416           5000  Botkier Sasha Medium Duffel Bag Coral Leather ...   \n",
       "\n",
       "               Token     Tag  \n",
       "1      LOUIS VUITTON   Brand  \n",
       "2             M40096     MPN  \n",
       "3            Handbag    Type  \n",
       "4          Priscilla   Model  \n",
       "5        Multi-color   Color  \n",
       "...              ...     ...  \n",
       "33412            Top  No Tag  \n",
       "33413        Closure  No Tag  \n",
       "33414         Retail  No Tag  \n",
       "33415              $  No Tag  \n",
       "33416            595  No Tag  \n",
       "\n",
       "[33416 rows x 4 columns]"
      ]
     },
     "execution_count": 13,
     "metadata": {},
     "output_type": "execute_result"
    }
   ],
   "source": [
    "df1"
   ]
  },
  {
   "cell_type": "code",
   "execution_count": null,
   "id": "5901ae65",
   "metadata": {},
   "outputs": [],
   "source": []
  }
 ],
 "metadata": {
  "kernelspec": {
   "display_name": "Python 3.10.4 ('FlaskWebApp2')",
   "language": "python",
   "name": "python3"
  },
  "language_info": {
   "codemirror_mode": {
    "name": "ipython",
    "version": 3
   },
   "file_extension": ".py",
   "mimetype": "text/x-python",
   "name": "python",
   "nbconvert_exporter": "python",
   "pygments_lexer": "ipython3",
   "version": "3.10.4"
  },
  "vscode": {
   "interpreter": {
    "hash": "134b4d5ec279367fd6b1ddea1f7ea5e737612e1a0d1e1ad5ebeff7275c00d19c"
   }
  }
 },
 "nbformat": 4,
 "nbformat_minor": 5
}
