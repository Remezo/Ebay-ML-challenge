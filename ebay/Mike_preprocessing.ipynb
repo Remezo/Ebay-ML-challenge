{
 "cells": [
  {
   "cell_type": "code",
   "execution_count": 30,
   "id": "ea67ded9",
   "metadata": {},
   "outputs": [],
   "source": [
    "import pandas as pd\n",
    "import spacy"
   ]
  },
  {
   "cell_type": "code",
   "execution_count": 18,
   "id": "3d0c53ef",
   "metadata": {},
   "outputs": [
    {
     "name": "stdout",
     "output_type": "stream",
     "text": [
      "<class 'pandas.core.frame.DataFrame'>\n",
      "RangeIndex: 38209 entries, 0 to 38208\n",
      "Data columns (total 4 columns):\n",
      " #   Column         Non-Null Count  Dtype \n",
      "---  ------         --------------  ----- \n",
      " 0   Record Number  38209 non-null  int64 \n",
      " 1   Title          38209 non-null  object\n",
      " 2   Token          38209 non-null  object\n",
      " 3   Tag            33416 non-null  object\n",
      "dtypes: int64(1), object(3)\n",
      "memory usage: 1.2+ MB\n"
     ]
    }
   ],
   "source": [
    "df=pd.read_csv(\"Train_Tagged_titles.tsv.gz\", sep=\"\\t\", on_bad_lines='skip')\n",
    "df.info()"
   ]
  },
  {
   "cell_type": "code",
   "execution_count": 4,
   "id": "077f7077",
   "metadata": {},
   "outputs": [],
   "source": [
    "df1=df[\"Tag\"]==\"NaN\""
   ]
  },
  {
   "cell_type": "code",
   "execution_count": 5,
   "id": "fabb9ee7",
   "metadata": {},
   "outputs": [
    {
     "data": {
      "text/plain": [
       "[0        False\n",
       " 1        False\n",
       " 2        False\n",
       " 3        False\n",
       " 4        False\n",
       "          ...  \n",
       " 38204    False\n",
       " 38205    False\n",
       " 38206    False\n",
       " 38207    False\n",
       " 38208    False\n",
       " Name: Tag, Length: 38209, dtype: bool]"
      ]
     },
     "execution_count": 5,
     "metadata": {},
     "output_type": "execute_result"
    }
   ],
   "source": []
  },
  {
   "cell_type": "code",
   "execution_count": 12,
   "id": "813c8507",
   "metadata": {},
   "outputs": [],
   "source": [
    "agg_d = {'Record Number': 'first', 'Title': 'first',\n",
    "         'Token': lambda x: ' '.join(x.dropna()),\n",
    "          'Tag': 'first'}\n",
    "\n",
    "df1=df.groupby(df.Tag.notnull().cumsum().rename(None)).agg(agg_d)"
   ]
  },
  {
   "cell_type": "code",
   "execution_count": 15,
   "id": "a846385e",
   "metadata": {},
   "outputs": [
    {
     "data": {
      "text/plain": [
       "1        True\n",
       "2        True\n",
       "3        True\n",
       "4        True\n",
       "5        True\n",
       "         ... \n",
       "33412    True\n",
       "33413    True\n",
       "33414    True\n",
       "33415    True\n",
       "33416    True\n",
       "Name: Tag, Length: 33416, dtype: bool"
      ]
     },
     "execution_count": 15,
     "metadata": {},
     "output_type": "execute_result"
    }
   ],
   "source": []
  },
  {
   "cell_type": "code",
   "execution_count": 16,
   "id": "172f0cca",
   "metadata": {},
   "outputs": [
    {
     "data": {
      "text/plain": [
       "Record Number    0\n",
       "Title            0\n",
       "Token            0\n",
       "Tag              0\n",
       "dtype: int64"
      ]
     },
     "execution_count": 16,
     "metadata": {},
     "output_type": "execute_result"
    }
   ],
   "source": [
    "df1.isnull().sum()"
   ]
  },
  {
   "cell_type": "code",
   "execution_count": 29,
   "id": "e1b38d79",
   "metadata": {},
   "outputs": [
    {
     "data": {
      "text/html": [
       "<div>\n",
       "<style scoped>\n",
       "    .dataframe tbody tr th:only-of-type {\n",
       "        vertical-align: middle;\n",
       "    }\n",
       "\n",
       "    .dataframe tbody tr th {\n",
       "        vertical-align: top;\n",
       "    }\n",
       "\n",
       "    .dataframe thead th {\n",
       "        text-align: right;\n",
       "    }\n",
       "</style>\n",
       "<table border=\"1\" class=\"dataframe\">\n",
       "  <thead>\n",
       "    <tr style=\"text-align: right;\">\n",
       "      <th></th>\n",
       "      <th>Record Number</th>\n",
       "      <th>Title</th>\n",
       "      <th>Token</th>\n",
       "      <th>Tag</th>\n",
       "    </tr>\n",
       "  </thead>\n",
       "  <tbody>\n",
       "    <tr>\n",
       "      <th>21829</th>\n",
       "      <td>3080</td>\n",
       "      <td>Coach Poppy New Willis Leather Hobo</td>\n",
       "      <td>Hobo</td>\n",
       "      <td>Type</td>\n",
       "    </tr>\n",
       "    <tr>\n",
       "      <th>26254</th>\n",
       "      <td>3641</td>\n",
       "      <td>LOUIS VUITTON LV Logo Alma Hand Bag Monogram L...</td>\n",
       "      <td>France</td>\n",
       "      <td>Country/Region of Manufacture</td>\n",
       "    </tr>\n",
       "    <tr>\n",
       "      <th>2468</th>\n",
       "      <td>597</td>\n",
       "      <td>AW15 Moschino Couture Jeremy Scott All Over Go...</td>\n",
       "      <td>AW15</td>\n",
       "      <td>No Tag</td>\n",
       "    </tr>\n",
       "    <tr>\n",
       "      <th>13551</th>\n",
       "      <td>2121</td>\n",
       "      <td>$ 3000 ! JUDITH LEIBER Chocolate Bar Minaudier...</td>\n",
       "      <td>Chocolate Bar</td>\n",
       "      <td>Product Line</td>\n",
       "    </tr>\n",
       "    <tr>\n",
       "      <th>16735</th>\n",
       "      <td>2455</td>\n",
       "      <td>Vintage GUCCI MICRO 1970S GG Bag W Crossbody &amp;...</td>\n",
       "      <td>Crossbody</td>\n",
       "      <td>Type</td>\n",
       "    </tr>\n",
       "    <tr>\n",
       "      <th>19383</th>\n",
       "      <td>2793</td>\n",
       "      <td>Auth GUCCI Black Suede Leather Bamboo Handle S...</td>\n",
       "      <td>Auth</td>\n",
       "      <td>No Tag</td>\n",
       "    </tr>\n",
       "    <tr>\n",
       "      <th>2396</th>\n",
       "      <td>590</td>\n",
       "      <td>Michael Kors JET SET CHAIN ITEM Genuine Leathe...</td>\n",
       "      <td>Bag</td>\n",
       "      <td>Type</td>\n",
       "    </tr>\n",
       "    <tr>\n",
       "      <th>26008</th>\n",
       "      <td>3616</td>\n",
       "      <td>Vintage GUCCI Logo Signature Tiny Crossbody Pu...</td>\n",
       "      <td>GUCCI Logo Signature</td>\n",
       "      <td>Pattern</td>\n",
       "    </tr>\n",
       "    <tr>\n",
       "      <th>14452</th>\n",
       "      <td>2216</td>\n",
       "      <td>COACH AUTHENTIC KRISTIN ROUCHED DRAWSTRING LEA...</td>\n",
       "      <td>HANDBAG</td>\n",
       "      <td>Type</td>\n",
       "    </tr>\n",
       "    <tr>\n",
       "      <th>33128</th>\n",
       "      <td>4971</td>\n",
       "      <td>Chala Charming Crossbody Bag with Zipper Flap ...</td>\n",
       "      <td>Cat</td>\n",
       "      <td>No Tag</td>\n",
       "    </tr>\n",
       "    <tr>\n",
       "      <th>15274</th>\n",
       "      <td>2306</td>\n",
       "      <td>Vintage 2000 Powerpuff Girls Cartoon Network P...</td>\n",
       "      <td>Vintage</td>\n",
       "      <td>No Tag</td>\n",
       "    </tr>\n",
       "    <tr>\n",
       "      <th>22479</th>\n",
       "      <td>3149</td>\n",
       "      <td>CHRISTIAN DIOR Trotter Saddle bag Hand Bag Sho...</td>\n",
       "      <td>bag Hand Bag</td>\n",
       "      <td>Type</td>\n",
       "    </tr>\n",
       "    <tr>\n",
       "      <th>18850</th>\n",
       "      <td>2702</td>\n",
       "      <td>EUC Coach Vachetta Whiskey Leather Legacy Flap...</td>\n",
       "      <td>Shoulder</td>\n",
       "      <td>Type</td>\n",
       "    </tr>\n",
       "    <tr>\n",
       "      <th>29982</th>\n",
       "      <td>4490</td>\n",
       "      <td>CHANEL Classic Double Flap Small Shoulder Bag ...</td>\n",
       "      <td>Lambskin</td>\n",
       "      <td>Material</td>\n",
       "    </tr>\n",
       "    <tr>\n",
       "      <th>21941</th>\n",
       "      <td>3091</td>\n",
       "      <td>LOUIS VUITTON M42397 Handbag Speedy Bandolier ...</td>\n",
       "      <td>Speedy Bandolier 20</td>\n",
       "      <td>Model</td>\n",
       "    </tr>\n",
       "    <tr>\n",
       "      <th>30580</th>\n",
       "      <td>4604</td>\n",
       "      <td>Auth Chanel Jumbo 13 \" Lamb Black Gold tone ch...</td>\n",
       "      <td>chain</td>\n",
       "      <td>Handle/Strap Material</td>\n",
       "    </tr>\n",
       "    <tr>\n",
       "      <th>21285</th>\n",
       "      <td>3026</td>\n",
       "      <td>New Rebecca Minkoff Mini Love Leather Crossbod...</td>\n",
       "      <td>New</td>\n",
       "      <td>No Tag</td>\n",
       "    </tr>\n",
       "    <tr>\n",
       "      <th>3799</th>\n",
       "      <td>881</td>\n",
       "      <td>LOUIS VUITTON Speedy 25 Travel Hand Bag Monogr...</td>\n",
       "      <td>LOUIS VUITTON</td>\n",
       "      <td>Brand</td>\n",
       "    </tr>\n",
       "    <tr>\n",
       "      <th>1329</th>\n",
       "      <td>479</td>\n",
       "      <td>Marc by Marc Jacobs Classic Q Baby Groovee Lea...</td>\n",
       "      <td>SOLD</td>\n",
       "      <td>No Tag</td>\n",
       "    </tr>\n",
       "    <tr>\n",
       "      <th>24638</th>\n",
       "      <td>3474</td>\n",
       "      <td>New NWT Diane von Furstenberg Black Travel Bag...</td>\n",
       "      <td>Simone</td>\n",
       "      <td>Model</td>\n",
       "    </tr>\n",
       "  </tbody>\n",
       "</table>\n",
       "</div>"
      ],
      "text/plain": [
       "       Record Number                                              Title  \\\n",
       "21829           3080                Coach Poppy New Willis Leather Hobo   \n",
       "26254           3641  LOUIS VUITTON LV Logo Alma Hand Bag Monogram L...   \n",
       "2468             597  AW15 Moschino Couture Jeremy Scott All Over Go...   \n",
       "13551           2121  $ 3000 ! JUDITH LEIBER Chocolate Bar Minaudier...   \n",
       "16735           2455  Vintage GUCCI MICRO 1970S GG Bag W Crossbody &...   \n",
       "19383           2793  Auth GUCCI Black Suede Leather Bamboo Handle S...   \n",
       "2396             590  Michael Kors JET SET CHAIN ITEM Genuine Leathe...   \n",
       "26008           3616  Vintage GUCCI Logo Signature Tiny Crossbody Pu...   \n",
       "14452           2216  COACH AUTHENTIC KRISTIN ROUCHED DRAWSTRING LEA...   \n",
       "33128           4971  Chala Charming Crossbody Bag with Zipper Flap ...   \n",
       "15274           2306  Vintage 2000 Powerpuff Girls Cartoon Network P...   \n",
       "22479           3149  CHRISTIAN DIOR Trotter Saddle bag Hand Bag Sho...   \n",
       "18850           2702  EUC Coach Vachetta Whiskey Leather Legacy Flap...   \n",
       "29982           4490  CHANEL Classic Double Flap Small Shoulder Bag ...   \n",
       "21941           3091  LOUIS VUITTON M42397 Handbag Speedy Bandolier ...   \n",
       "30580           4604  Auth Chanel Jumbo 13 \" Lamb Black Gold tone ch...   \n",
       "21285           3026  New Rebecca Minkoff Mini Love Leather Crossbod...   \n",
       "3799             881  LOUIS VUITTON Speedy 25 Travel Hand Bag Monogr...   \n",
       "1329             479  Marc by Marc Jacobs Classic Q Baby Groovee Lea...   \n",
       "24638           3474  New NWT Diane von Furstenberg Black Travel Bag...   \n",
       "\n",
       "                      Token                            Tag  \n",
       "21829                  Hobo                           Type  \n",
       "26254                France  Country/Region of Manufacture  \n",
       "2468                   AW15                         No Tag  \n",
       "13551         Chocolate Bar                   Product Line  \n",
       "16735             Crossbody                           Type  \n",
       "19383                  Auth                         No Tag  \n",
       "2396                    Bag                           Type  \n",
       "26008  GUCCI Logo Signature                        Pattern  \n",
       "14452               HANDBAG                           Type  \n",
       "33128                   Cat                         No Tag  \n",
       "15274               Vintage                         No Tag  \n",
       "22479          bag Hand Bag                           Type  \n",
       "18850              Shoulder                           Type  \n",
       "29982              Lambskin                       Material  \n",
       "21941   Speedy Bandolier 20                          Model  \n",
       "30580                 chain          Handle/Strap Material  \n",
       "21285                   New                         No Tag  \n",
       "3799          LOUIS VUITTON                          Brand  \n",
       "1329                   SOLD                         No Tag  \n",
       "24638                Simone                          Model  "
      ]
     },
     "execution_count": 29,
     "metadata": {},
     "output_type": "execute_result"
    }
   ],
   "source": [
    "df1.sample(20)"
   ]
  },
  {
   "cell_type": "code",
   "execution_count": 19,
   "id": "5e9ff59a",
   "metadata": {},
   "outputs": [
    {
     "data": {
      "text/plain": [
       "'C:\\\\Users\\\\miremezo\\\\Site\\\\CSC381\\\\Ebay-ML-challenge\\\\ebay'"
      ]
     },
     "execution_count": 19,
     "metadata": {},
     "output_type": "execute_result"
    }
   ],
   "source": [
    "pwd"
   ]
  },
  {
   "cell_type": "code",
   "execution_count": 42,
   "id": "976df2d7",
   "metadata": {},
   "outputs": [
    {
     "ename": "OSError",
     "evalue": "[E050] Can't find model 'en_core_web_sm'. It doesn't seem to be a Python package or a valid path to a data directory.",
     "output_type": "error",
     "traceback": [
      "\u001b[1;31m---------------------------------------------------------------------------\u001b[0m",
      "\u001b[1;31mOSError\u001b[0m                                   Traceback (most recent call last)",
      "\u001b[1;32m~\\AppData\\Local\\Temp/ipykernel_15388/539313565.py\u001b[0m in \u001b[0;36m<module>\u001b[1;34m\u001b[0m\n\u001b[1;32m----> 1\u001b[1;33m \u001b[0mnlp\u001b[0m \u001b[1;33m=\u001b[0m \u001b[0mspacy\u001b[0m\u001b[1;33m.\u001b[0m\u001b[0mload\u001b[0m\u001b[1;33m(\u001b[0m\u001b[1;34m\"en_core_web_sm\"\u001b[0m\u001b[1;33m)\u001b[0m\u001b[1;33m\u001b[0m\u001b[1;33m\u001b[0m\u001b[0m\n\u001b[0m",
      "\u001b[1;32m~\\Anaconda3\\lib\\site-packages\\spacy\\__init__.py\u001b[0m in \u001b[0;36mload\u001b[1;34m(name, vocab, disable, enable, exclude, config)\u001b[0m\n\u001b[0;32m     52\u001b[0m     \u001b[0mRETURNS\u001b[0m \u001b[1;33m(\u001b[0m\u001b[0mLanguage\u001b[0m\u001b[1;33m)\u001b[0m\u001b[1;33m:\u001b[0m \u001b[0mThe\u001b[0m \u001b[0mloaded\u001b[0m \u001b[0mnlp\u001b[0m \u001b[0mobject\u001b[0m\u001b[1;33m.\u001b[0m\u001b[1;33m\u001b[0m\u001b[1;33m\u001b[0m\u001b[0m\n\u001b[0;32m     53\u001b[0m     \"\"\"\n\u001b[1;32m---> 54\u001b[1;33m     return util.load_model(\n\u001b[0m\u001b[0;32m     55\u001b[0m         \u001b[0mname\u001b[0m\u001b[1;33m,\u001b[0m\u001b[1;33m\u001b[0m\u001b[1;33m\u001b[0m\u001b[0m\n\u001b[0;32m     56\u001b[0m         \u001b[0mvocab\u001b[0m\u001b[1;33m=\u001b[0m\u001b[0mvocab\u001b[0m\u001b[1;33m,\u001b[0m\u001b[1;33m\u001b[0m\u001b[1;33m\u001b[0m\u001b[0m\n",
      "\u001b[1;32m~\\Anaconda3\\lib\\site-packages\\spacy\\util.py\u001b[0m in \u001b[0;36mload_model\u001b[1;34m(name, vocab, disable, enable, exclude, config)\u001b[0m\n\u001b[0;32m    434\u001b[0m     \u001b[1;32mif\u001b[0m \u001b[0mname\u001b[0m \u001b[1;32min\u001b[0m \u001b[0mOLD_MODEL_SHORTCUTS\u001b[0m\u001b[1;33m:\u001b[0m\u001b[1;33m\u001b[0m\u001b[1;33m\u001b[0m\u001b[0m\n\u001b[0;32m    435\u001b[0m         \u001b[1;32mraise\u001b[0m \u001b[0mIOError\u001b[0m\u001b[1;33m(\u001b[0m\u001b[0mErrors\u001b[0m\u001b[1;33m.\u001b[0m\u001b[0mE941\u001b[0m\u001b[1;33m.\u001b[0m\u001b[0mformat\u001b[0m\u001b[1;33m(\u001b[0m\u001b[0mname\u001b[0m\u001b[1;33m=\u001b[0m\u001b[0mname\u001b[0m\u001b[1;33m,\u001b[0m \u001b[0mfull\u001b[0m\u001b[1;33m=\u001b[0m\u001b[0mOLD_MODEL_SHORTCUTS\u001b[0m\u001b[1;33m[\u001b[0m\u001b[0mname\u001b[0m\u001b[1;33m]\u001b[0m\u001b[1;33m)\u001b[0m\u001b[1;33m)\u001b[0m  \u001b[1;31m# type: ignore[index]\u001b[0m\u001b[1;33m\u001b[0m\u001b[1;33m\u001b[0m\u001b[0m\n\u001b[1;32m--> 436\u001b[1;33m     \u001b[1;32mraise\u001b[0m \u001b[0mIOError\u001b[0m\u001b[1;33m(\u001b[0m\u001b[0mErrors\u001b[0m\u001b[1;33m.\u001b[0m\u001b[0mE050\u001b[0m\u001b[1;33m.\u001b[0m\u001b[0mformat\u001b[0m\u001b[1;33m(\u001b[0m\u001b[0mname\u001b[0m\u001b[1;33m=\u001b[0m\u001b[0mname\u001b[0m\u001b[1;33m)\u001b[0m\u001b[1;33m)\u001b[0m\u001b[1;33m\u001b[0m\u001b[1;33m\u001b[0m\u001b[0m\n\u001b[0m\u001b[0;32m    437\u001b[0m \u001b[1;33m\u001b[0m\u001b[0m\n\u001b[0;32m    438\u001b[0m \u001b[1;33m\u001b[0m\u001b[0m\n",
      "\u001b[1;31mOSError\u001b[0m: [E050] Can't find model 'en_core_web_sm'. It doesn't seem to be a Python package or a valid path to a data directory."
     ]
    }
   ],
   "source": [
    "\n",
    "nlp = spacy.load(\"en_core_web_sm\")"
   ]
  },
  {
   "cell_type": "code",
   "execution_count": 38,
   "id": "cc13e077",
   "metadata": {},
   "outputs": [
    {
     "ename": "SyntaxError",
     "evalue": "invalid syntax (Temp/ipykernel_15388/2180754472.py, line 1)",
     "output_type": "error",
     "traceback": [
      "\u001b[1;36m  File \u001b[1;32m\"C:\\Users\\miremezo\\AppData\\Local\\Temp/ipykernel_15388/2180754472.py\"\u001b[1;36m, line \u001b[1;32m1\u001b[0m\n\u001b[1;33m    python3 -m spacy download en_core_web_sm\u001b[0m\n\u001b[1;37m               ^\u001b[0m\n\u001b[1;31mSyntaxError\u001b[0m\u001b[1;31m:\u001b[0m invalid syntax\n"
     ]
    }
   ],
   "source": [
    "python3 -m spacy download en_core_web_sm"
   ]
  },
  {
   "cell_type": "code",
   "execution_count": 43,
   "id": "86feeac0",
   "metadata": {},
   "outputs": [],
   "source": [
    "import re"
   ]
  },
  {
   "cell_type": "code",
   "execution_count": 46,
   "id": "47b86975",
   "metadata": {},
   "outputs": [
    {
     "name": "stdout",
     "output_type": "stream",
     "text": [
      "<re.Match object; span=(1, 5), match='Geek'>\n",
      "<re.Match object; span=(8, 10), match='is'>\n",
      "<re.Match object; span=(11, 15), match='Best'>\n",
      "<re.Match object; span=(19, 22), match='for'>\n",
      "<re.Match object; span=(24, 29), match='geeks'>\n"
     ]
    }
   ],
   "source": [
    "test_str = ' Geek   is Best    for  geeks'\n",
    "for ele in re.finditer(r'\\S+', test_str):\n",
    "    print(ele)"
   ]
  },
  {
   "cell_type": "code",
   "execution_count": null,
   "id": "2959a85b",
   "metadata": {},
   "outputs": [],
   "source": []
  }
 ],
 "metadata": {
  "kernelspec": {
   "display_name": "Python 3 (ipykernel)",
   "language": "python",
   "name": "python3"
  },
  "language_info": {
   "codemirror_mode": {
    "name": "ipython",
    "version": 3
   },
   "file_extension": ".py",
   "mimetype": "text/x-python",
   "name": "python",
   "nbconvert_exporter": "python",
   "pygments_lexer": "ipython3",
   "version": "3.9.7"
  }
 },
 "nbformat": 4,
 "nbformat_minor": 5
}
